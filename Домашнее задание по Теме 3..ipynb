{
 "cells": [
  {
   "cell_type": "markdown",
   "id": "806ba7e8",
   "metadata": {},
   "source": [
    "### Задание 1."
   ]
  },
  {
   "cell_type": "code",
   "execution_count": 1,
   "id": "7ba4b1ef",
   "metadata": {},
   "outputs": [
    {
     "name": "stdout",
     "output_type": "stream",
     "text": [
      "{98, 35, 15, 213, 54, 119}\n"
     ]
    }
   ],
   "source": [
    "ids = {'user1': [213, 213, 213, 15, 213], \n",
    "       'user2': [54, 54, 119, 119, 119], \n",
    "       'user3': [213, 98, 98, 35]}\n",
    "set_res = set()\n",
    "for i in ids.values():\n",
    "    set_res = set_res.union(i)\n",
    "print(set_res)"
   ]
  },
  {
   "cell_type": "markdown",
   "id": "37b9adea",
   "metadata": {},
   "source": [
    "### Задание 2."
   ]
  },
  {
   "cell_type": "code",
   "execution_count": 2,
   "id": "c0b01cdf",
   "metadata": {},
   "outputs": [
    {
     "name": "stdout",
     "output_type": "stream",
     "text": [
      "Поисковых запросов, содержащих 2 слов(а): 42.86%\n",
      "Поисковых запросов, содержащих 3 слов(а): 57.14%\n"
     ]
    }
   ],
   "source": [
    "queries = [\n",
    "    'смотреть сериалы онлайн',\n",
    "    'новости спорта',\n",
    "    'афиша кино',\n",
    "    'курс доллара',\n",
    "    'сериалы этим летом',\n",
    "    'курс по питону',\n",
    "    'сериалы про спорт',\n",
    "]\n",
    "list_emp = []\n",
    "for item in queries:\n",
    "    list_emp.append(len(item.split()))\n",
    "i = 0\n",
    "while i <= len(list_emp) :\n",
    "    if list_emp.count(i) > 0:\n",
    "        print('Поисковых запросов, содержащих', i,'слов(а):', str(round(list_emp.count(i)*100/len(list_emp),2)) + '%')\n",
    "    i += 1\n"
   ]
  },
  {
   "cell_type": "markdown",
   "id": "559fb779",
   "metadata": {},
   "source": [
    "### Задание 3."
   ]
  },
  {
   "cell_type": "code",
   "execution_count": 3,
   "id": "3bfe022e",
   "metadata": {},
   "outputs": [
    {
     "data": {
      "text/plain": [
       "{'vk': {'ROI': 5.1, 'cost': 98, 'revenue': 103},\n",
       " 'yandex': {'ROI': 16.99, 'cost': 153, 'revenue': 179},\n",
       " 'facebook': {'ROI': -6.36, 'cost': 110, 'revenue': 103},\n",
       " 'adwords': {'ROI': 2.94, 'cost': 34, 'revenue': 35},\n",
       " 'twitter': {'ROI': -54.17, 'cost': 24, 'revenue': 11}}"
      ]
     },
     "execution_count": 3,
     "metadata": {},
     "output_type": "execute_result"
    }
   ],
   "source": [
    "results = {\n",
    "    'vk': {'revenue': 103, 'cost': 98},\n",
    "    'yandex': {'revenue': 179, 'cost': 153},\n",
    "    'facebook': {'revenue': 103, 'cost': 110},\n",
    "    'adwords': {'revenue': 35, 'cost': 34},\n",
    "    'twitter': {'revenue': 11, 'cost': 24},\n",
    "}\n",
    "roi = {}\n",
    "for row,values in results.items():\n",
    "    roi.update({row:{'ROI':round((values['revenue'] / values['cost'] - 1) * 100, 2), \n",
    "                     'cost':values['cost'], 'revenue':values['revenue']}})\n",
    "roi"
   ]
  },
  {
   "cell_type": "markdown",
   "id": "99acec20",
   "metadata": {},
   "source": [
    "### Задание 4."
   ]
  },
  {
   "cell_type": "code",
   "execution_count": 5,
   "id": "93155d3e",
   "metadata": {},
   "outputs": [
    {
     "name": "stdout",
     "output_type": "stream",
     "text": [
      "Максимальный объем продаж на рекламном канале: vk\n"
     ]
    }
   ],
   "source": [
    "stats = {'facebook': 55, 'yandex': 115, 'vk': 120, 'google': 99, 'email': 42, 'ok': 98}\n",
    "for chan, sales in stats.items():\n",
    "     if sales == max(list(stats.values())):\n",
    "         print('Максимальный объем продаж на рекламном канале:',chan)"
   ]
  },
  {
   "cell_type": "code",
   "execution_count": null,
   "id": "80ea0f1d",
   "metadata": {},
   "outputs": [],
   "source": []
  }
 ],
 "metadata": {
  "kernelspec": {
   "display_name": "Python 3 (ipykernel)",
   "language": "python",
   "name": "python3"
  },
  "language_info": {
   "codemirror_mode": {
    "name": "ipython",
    "version": 3
   },
   "file_extension": ".py",
   "mimetype": "text/x-python",
   "name": "python",
   "nbconvert_exporter": "python",
   "pygments_lexer": "ipython3",
   "version": "3.9.12"
  }
 },
 "nbformat": 4,
 "nbformat_minor": 5
}
